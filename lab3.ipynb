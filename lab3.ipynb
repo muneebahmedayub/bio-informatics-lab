{
 "cells": [
  {
   "cell_type": "markdown",
   "metadata": {},
   "source": [
    "# Lab 2\n",
    "## Date: 10 March 2022"
   ]
  },
  {
   "cell_type": "markdown",
   "metadata": {},
   "source": [
    "Question 1"
   ]
  },
  {
   "cell_type": "code",
   "execution_count": 3,
   "metadata": {},
   "outputs": [
    {
     "name": "stdout",
     "output_type": "stream",
     "text": [
      "You are overwight.\n"
     ]
    }
   ],
   "source": [
    "weight = int(input(\"Enter your weight in Kg: \"))\n",
    "height = float(input(\"Enter your height in meter: \"))\n",
    "bmi = weight/(height*height)\n",
    "\n",
    "if bmi < 18.5:\n",
    "  print(\"You are under weight.\")\n",
    "elif bmi <= 24.9:\n",
    "  print(\"Your have a healthy weight.\")\n",
    "elif bmi <= 29.9:\n",
    "  print(\"You are overwight.\")\n",
    "elif bmi >= 29.9:\n",
    "  print(\"You are Obesity.\")"
   ]
  },
  {
   "cell_type": "markdown",
   "metadata": {},
   "source": [
    "Question 2"
   ]
  },
  {
   "cell_type": "code",
   "execution_count": 8,
   "metadata": {},
   "outputs": [
    {
     "name": "stdout",
     "output_type": "stream",
     "text": [
      "FirstName:  muneeb\n",
      "LastName:  ahmed\n",
      "HostName:  cuiatk.edu.pk\n"
     ]
    }
   ],
   "source": [
    "email = input(\"Enter you email (firstname.lastname@gmail.com)\")\n",
    "firstDotIndex = email.find('.')\n",
    "symbolIndex = email.find('@')\n",
    "firstname = email[0:firstDotIndex]\n",
    "lastname = email[firstDotIndex + 1: symbolIndex]\n",
    "hostname = email[symbolIndex + 1: ]\n",
    "print(\"FirstName: \", firstname)\n",
    "print(\"LastName: \", lastname)\n",
    "print(\"HostName: \", hostname)"
   ]
  },
  {
   "cell_type": "markdown",
   "metadata": {},
   "source": [
    "Question 3"
   ]
  },
  {
   "cell_type": "code",
   "execution_count": 15,
   "metadata": {},
   "outputs": [
    {
     "name": "stdout",
     "output_type": "stream",
     "text": [
      "{'T': 1, 'h': 1, 'i': 4, 's': 4, ' ': 4, 'a': 1, 't': 3, 'e': 1, 'n': 2, 'g': 2, 'r': 1}\n"
     ]
    }
   ],
   "source": [
    "sentence = \"This is a testing string\"\n",
    "\n",
    "\n",
    "dict = {}\n",
    "\n",
    "for word in sentence:\n",
    "  if(word in dict):\n",
    "    continue\n",
    "  dict[word] = sentence.count(word)\n",
    "\n",
    "print(dict)\n"
   ]
  },
  {
   "cell_type": "code",
   "execution_count": null,
   "metadata": {},
   "outputs": [],
   "source": []
  }
 ],
 "metadata": {
  "interpreter": {
   "hash": "8f6fa6855b2e1bd9af1349c9a15994f4578396967442e586c3828f68b1dae0d5"
  },
  "kernelspec": {
   "display_name": "Python 3.8.5 ('base')",
   "language": "python",
   "name": "python3"
  },
  "language_info": {
   "codemirror_mode": {
    "name": "ipython",
    "version": 3
   },
   "file_extension": ".py",
   "mimetype": "text/x-python",
   "name": "python",
   "nbconvert_exporter": "python",
   "pygments_lexer": "ipython3",
   "version": "3.8.5"
  },
  "orig_nbformat": 4
 },
 "nbformat": 4,
 "nbformat_minor": 2
}
