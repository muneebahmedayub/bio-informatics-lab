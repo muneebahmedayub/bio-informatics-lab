{
 "cells": [
  {
   "cell_type": "markdown",
   "metadata": {},
   "source": [
    "# Lab 6\n",
    "## Date: 24 March 2022"
   ]
  },
  {
   "cell_type": "code",
   "execution_count": 10,
   "metadata": {},
   "outputs": [
    {
     "data": {
      "text/plain": [
       "Seq('ATGCGTACGACGTAGCTAGCTGAGTCGTAGT')"
      ]
     },
     "metadata": {},
     "output_type": "display_data"
    },
    {
     "data": {
      "text/plain": [
       "Seq('AUGCGUACGACGUAGCUAGCUGAGUCGUAGU')"
      ]
     },
     "metadata": {},
     "output_type": "display_data"
    }
   ],
   "source": [
    "from Bio.Seq import Seq\n",
    "\n",
    "coding_data = Seq('ATGCGTACGACGTAGCTAGCTGAGTCGTAGT')\n",
    "\n",
    "display(coding_data)\n",
    "\n",
    "messenger_rna = coding_data.transcribe()\n",
    "\n",
    "display(messenger_rna)"
   ]
  },
  {
   "cell_type": "code",
   "execution_count": 17,
   "metadata": {},
   "outputs": [],
   "source": [
    "def transcribe(seq):\n",
    "  if len(seq) > 1:\n",
    "    if seq[0] == 'T':\n",
    "      return 'U' + transcribe(seq[1:])\n",
    "    else:\n",
    "      return seq[0] + transcribe(seq[1:])\n",
    "  else:\n",
    "    if seq[0] == 'T':\n",
    "      return 'U'\n",
    "    else:\n",
    "      return seq[0]"
   ]
  },
  {
   "cell_type": "code",
   "execution_count": 18,
   "metadata": {},
   "outputs": [
    {
     "data": {
      "text/plain": [
       "'AUGCGUACGACGUAGCUAGCUGAGUCGUAGU'"
      ]
     },
     "metadata": {},
     "output_type": "display_data"
    }
   ],
   "source": [
    "display(transcribe(coding_data))"
   ]
  },
  {
   "cell_type": "code",
   "execution_count": null,
   "metadata": {},
   "outputs": [],
   "source": []
  },
  {
   "cell_type": "code",
   "execution_count": null,
   "metadata": {},
   "outputs": [],
   "source": []
  }
 ],
 "metadata": {
  "interpreter": {
   "hash": "8f6fa6855b2e1bd9af1349c9a15994f4578396967442e586c3828f68b1dae0d5"
  },
  "kernelspec": {
   "display_name": "Python 3.8.5 ('base')",
   "language": "python",
   "name": "python3"
  },
  "language_info": {
   "codemirror_mode": {
    "name": "ipython",
    "version": 3
   },
   "file_extension": ".py",
   "mimetype": "text/x-python",
   "name": "python",
   "nbconvert_exporter": "python",
   "pygments_lexer": "ipython3",
   "version": "3.8.5"
  },
  "orig_nbformat": 4
 },
 "nbformat": 4,
 "nbformat_minor": 2
}
