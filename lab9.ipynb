{
 "cells": [
  {
   "cell_type": "markdown",
   "metadata": {},
   "source": [
    "# Lab 9\n",
    "## Date: 12 April 2022"
   ]
  },
  {
   "cell_type": "code",
   "execution_count": 2,
   "metadata": {},
   "outputs": [
    {
     "name": "stdout",
     "output_type": "stream",
     "text": [
      "AF191665.1 with 0 features\n"
     ]
    }
   ],
   "source": [
    "from Bio import Entrez, SeqIO\n",
    "\n",
    "Entrez.email = \"muneebahmedayub01@gmail.com\"\n",
    "with Entrez.efetch(db=\"nucleotide\", rettype=\"fasta\", retmde=\"text\", id=\"6273291\") as handle:\n",
    "  seq_record = SeqIO.read(handle, \"fasta\")\n",
    "  print(\"%s with %i features\" % (seq_record.id, len(seq_record.features)))"
   ]
  },
  {
   "cell_type": "code",
   "execution_count": 6,
   "metadata": {},
   "outputs": [
    {
     "name": "stdout",
     "output_type": "stream",
     "text": [
      "Q99J83\n",
      "ATG5_MOUSE\n",
      "RecName: Full=Autophagy protein 5; AltName: Full=APG5-like;\n",
      "Seq('MTDDKDVLRDVWFGRIPTCFTLYQDEITEREAEPYYLLLPRVSYLTLVTDKVKK...PTD')\n",
      "Length 275\n",
      "['Acetylation', 'Apoptosis', 'Autophagy', 'Cytoplasm', 'Immunity', 'Isopeptide bond', 'Membrane', 'Reference proteome', 'Ubl conjugation']\n"
     ]
    }
   ],
   "source": [
    "from Bio import ExPASy, SeqIO\n",
    "\n",
    "with ExPASy.get_sprot_raw(\"q99j83\") as handle:\n",
    "  seq_record = SeqIO.read(handle, \"swiss\")\n",
    "  print(seq_record.id)\n",
    "  print(seq_record.name)\n",
    "  print(seq_record.description)\n",
    "  print(repr(seq_record.seq))\n",
    "  print(\"Length %i\" % len(seq_record))\n",
    "  print(seq_record.annotations[\"keywords\"])"
   ]
  },
  {
   "cell_type": "code",
   "execution_count": null,
   "metadata": {},
   "outputs": [],
   "source": []
  }
 ],
 "metadata": {
  "interpreter": {
   "hash": "8f6fa6855b2e1bd9af1349c9a15994f4578396967442e586c3828f68b1dae0d5"
  },
  "kernelspec": {
   "display_name": "Python 3.8.5 ('base')",
   "language": "python",
   "name": "python3"
  },
  "language_info": {
   "codemirror_mode": {
    "name": "ipython",
    "version": 3
   },
   "file_extension": ".py",
   "mimetype": "text/x-python",
   "name": "python",
   "nbconvert_exporter": "python",
   "pygments_lexer": "ipython3",
   "version": "3.8.5"
  },
  "orig_nbformat": 4
 },
 "nbformat": 4,
 "nbformat_minor": 2
}
