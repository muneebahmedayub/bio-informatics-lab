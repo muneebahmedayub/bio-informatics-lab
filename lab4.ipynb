{
 "cells": [
  {
   "cell_type": "markdown",
   "metadata": {},
   "source": [
    "# Lab 4\n",
    "## Date 15 March 2022"
   ]
  },
  {
   "cell_type": "markdown",
   "metadata": {},
   "source": [
    "Question 1"
   ]
  },
  {
   "cell_type": "code",
   "execution_count": 33,
   "metadata": {},
   "outputs": [
    {
     "name": "stdout",
     "output_type": "stream",
     "text": [
      "M\n"
     ]
    }
   ],
   "source": [
    "list2 = [\n",
    "  [\n",
    "    [8, 7],\n",
    "    [5, 8],\n",
    "  ],\n",
    "  [\n",
    "    [5, 5],\n",
    "    [2, 7],\n",
    "  ],\n",
    "  [\n",
    "    [1, 1],\n",
    "    [3, 3],\n",
    "    ['COMSATS', 8, 8]\n",
    "  ]\n",
    "]\n",
    "\n",
    "print(list2[2][2][0][2])"
   ]
  },
  {
   "cell_type": "markdown",
   "metadata": {},
   "source": [
    "Question 2"
   ]
  },
  {
   "cell_type": "code",
   "execution_count": 21,
   "metadata": {},
   "outputs": [
    {
     "name": "stdout",
     "output_type": "stream",
     "text": [
      "Mid Value 3\n",
      "Mid Value is divisible by 3\n",
      "Even Value  2\n",
      "Even Value  7\n",
      "Even Value  3\n",
      "Even Value  7\n",
      "Even Value  9\n"
     ]
    }
   ],
   "source": [
    "list1 = [2, 5, 7, 8, 3, 4, 7, 6, 9]\n",
    "\n",
    "midValue = list1[len(list1) // 2]\n",
    "\n",
    "print(\"Mid Value\", midValue)\n",
    "if midValue % 3 == 0:\n",
    "  print(\"Mid Value is divisible by 3\")\n",
    "else:\n",
    "  print(\"Mid Value is not divisible by 3\")\n",
    "\n",
    "for i in range(len(list1)):\n",
    "  if i % 2 == 0:\n",
    "    print(\"Even Value \", list1[i])"
   ]
  },
  {
   "cell_type": "code",
   "execution_count": 32,
   "metadata": {},
   "outputs": [
    {
     "name": "stdout",
     "output_type": "stream",
     "text": [
      "First Word:  14th August 1947\n",
      "Second Word Index: 62\n",
      "Second Word:  British\n",
      "Pakistan is sacred land for Muslims. It got independence from British Rule on th August . This country has been built with the beleif of Two Nation Theory"
     ]
    }
   ],
   "source": [
    "sentence = \"Pakistan is sacred land for Muslims. It got independence from British Rule on 14th August 1947. This country has been built with the beleif of Two Nation Theory\"\n",
    "\n",
    "findWord = '14th August 1947'\n",
    "findWordIndex = sentence.find('14th August 1947')\n",
    "print(\"First Word: \",sentence[findWordIndex: findWordIndex + len(findWord)])\n",
    "\n",
    "secondWord = 'British'\n",
    "secondWordIndex = sentence.find(secondWord)\n",
    "print(\"Second Word Index:\", secondWordIndex)\n",
    "print(\"Second Word: \",sentence[secondWordIndex: secondWordIndex + len(secondWord)])\n",
    "\n",
    "digits = ['0', '1', '2', '3', '4', '5', '6', '7', '8', '9']\n",
    "\n",
    "for i in sentence:\n",
    "  if i in digits:\n",
    "    pass\n",
    "  else:\n",
    "    print(i, end=\"\")"
   ]
  },
  {
   "cell_type": "code",
   "execution_count": null,
   "metadata": {},
   "outputs": [],
   "source": []
  }
 ],
 "metadata": {
  "interpreter": {
   "hash": "8f6fa6855b2e1bd9af1349c9a15994f4578396967442e586c3828f68b1dae0d5"
  },
  "kernelspec": {
   "display_name": "Python 3.8.5 ('base')",
   "language": "python",
   "name": "python3"
  },
  "language_info": {
   "codemirror_mode": {
    "name": "ipython",
    "version": 3
   },
   "file_extension": ".py",
   "mimetype": "text/x-python",
   "name": "python",
   "nbconvert_exporter": "python",
   "pygments_lexer": "ipython3",
   "version": "3.8.5"
  },
  "orig_nbformat": 4
 },
 "nbformat": 4,
 "nbformat_minor": 2
}
