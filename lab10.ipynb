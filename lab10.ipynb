{
 "cells": [
  {
   "cell_type": "markdown",
   "metadata": {},
   "source": [
    "# Lab 10\n",
    "## Date: 14 April 2022"
   ]
  },
  {
   "cell_type": "code",
   "execution_count": 2,
   "metadata": {},
   "outputs": [
    {
     "data": {
      "text/plain": [
       "3"
      ]
     },
     "execution_count": 2,
     "metadata": {},
     "output_type": "execute_result"
    }
   ],
   "source": [
    "from Bio.Seq import Seq\n",
    "from Bio.SeqRecord import SeqRecord\n",
    "\n",
    "rec1 = SeqRecord(Seq(\"Seq1\"), id=\"id 1\", description=\"descrption 1\")\n",
    "rec2 = SeqRecord(Seq(\"Seq2\"), id=\"id 2\", description=\"descrption 2\")\n",
    "rec3 = SeqRecord(Seq(\"Seq3\"), id=\"id 3\", description=\"descrption 3\")\n",
    "\n",
    "my_records = [rec1, rec2, rec3]\n",
    "\n",
    "from Bio import SeqIO\n",
    "SeqIO.write(my_records, \"my_example.fasta\", \"fasta\")\n"
   ]
  },
  {
   "cell_type": "code",
   "execution_count": 5,
   "metadata": {},
   "outputs": [],
   "source": [
    "from Bio import SeqIO\n",
    "records = SeqIO.parse(\"ls_orchid.gbk\", \"genbank\")\n",
    "count = SeqIO.write(records, \"my_example2.fasta\", \"fasta\")\n",
    "count = SeqIO.convert(\"ls_orchid.gbk\", \"genbank\", \"my_example2.fasta\", \"fasta\")"
   ]
  },
  {
   "cell_type": "code",
   "execution_count": null,
   "metadata": {},
   "outputs": [],
   "source": []
  }
 ],
 "metadata": {
  "interpreter": {
   "hash": "8f6fa6855b2e1bd9af1349c9a15994f4578396967442e586c3828f68b1dae0d5"
  },
  "kernelspec": {
   "display_name": "Python 3.8.5 ('base')",
   "language": "python",
   "name": "python3"
  },
  "language_info": {
   "codemirror_mode": {
    "name": "ipython",
    "version": 3
   },
   "file_extension": ".py",
   "mimetype": "text/x-python",
   "name": "python",
   "nbconvert_exporter": "python",
   "pygments_lexer": "ipython3",
   "version": "3.8.5"
  },
  "orig_nbformat": 4
 },
 "nbformat": 4,
 "nbformat_minor": 2
}
