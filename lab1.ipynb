{
 "cells": [
  {
   "cell_type": "markdown",
   "metadata": {},
   "source": [
    "# Lab: 1\n",
    "### Date: 22 Feb 2022"
   ]
  },
  {
   "cell_type": "markdown",
   "metadata": {},
   "source": [
    "Question 0"
   ]
  },
  {
   "cell_type": "code",
   "execution_count": 2,
   "metadata": {},
   "outputs": [
    {
     "name": "stdout",
     "output_type": "stream",
     "text": [
      "['5', '6', '8', '7', '5']\n"
     ]
    }
   ],
   "source": [
    "li = []\n",
    "for i in range(5):\n",
    "  li.append(input(\"Enter a value to store in the list: \"))\n",
    "print(li)"
   ]
  },
  {
   "cell_type": "markdown",
   "metadata": {},
   "source": [
    "Question 1"
   ]
  },
  {
   "cell_type": "code",
   "execution_count": 5,
   "metadata": {},
   "outputs": [
    {
     "name": "stdout",
     "output_type": "stream",
     "text": [
      "55\n"
     ]
    }
   ],
   "source": [
    "i=0\n",
    "sum=0\n",
    "while(i<=10):\n",
    "  sum+=i\n",
    "  i+=1\n",
    "\n",
    "print(sum)"
   ]
  },
  {
   "cell_type": "markdown",
   "metadata": {},
   "source": [
    "Question 2"
   ]
  },
  {
   "cell_type": "code",
   "execution_count": 7,
   "metadata": {},
   "outputs": [
    {
     "name": "stdout",
     "output_type": "stream",
     "text": [
      "23\n"
     ]
    }
   ],
   "source": [
    "i=0\n",
    "sum=0\n",
    "while(i<5):\n",
    "  sum+=int(input(\"Enter a number: \"))\n",
    "  i+=1\n",
    "\n",
    "print(sum)"
   ]
  },
  {
   "cell_type": "markdown",
   "metadata": {},
   "source": [
    "Question 3"
   ]
  },
  {
   "cell_type": "code",
   "execution_count": 10,
   "metadata": {},
   "outputs": [
    {
     "name": "stdout",
     "output_type": "stream",
     "text": [
      "24\n"
     ]
    }
   ],
   "source": [
    "sum=0\n",
    "n=1\n",
    "while(n!=0):\n",
    "  n=int(input(\"Enter a number: \"))\n",
    "  sum+=n\n",
    "\n",
    "print(sum)"
   ]
  },
  {
   "cell_type": "markdown",
   "metadata": {},
   "source": [
    "Question 4"
   ]
  },
  {
   "cell_type": "code",
   "execution_count": 16,
   "metadata": {},
   "outputs": [
    {
     "name": "stdout",
     "output_type": "stream",
     "text": [
      "Square:  1\n",
      "Square:  4\n",
      "Square:  9\n",
      "Square:  9\n",
      "Square:  16\n",
      "Square:  25\n",
      "Square:  36\n",
      "Square:  49\n",
      "Square:  64\n",
      "Square:  81\n",
      "Square:  100\n"
     ]
    }
   ],
   "source": [
    "i=0\n",
    "while(i<=10):\n",
    "  n=int(input(\"Enter a number: \"))\n",
    "  print(\"Square: \",n**2)\n",
    "  i+=1"
   ]
  },
  {
   "cell_type": "markdown",
   "metadata": {},
   "source": [
    "Question 5"
   ]
  },
  {
   "cell_type": "code",
   "execution_count": 2,
   "metadata": {},
   "outputs": [
    {
     "name": "stdout",
     "output_type": "stream",
     "text": [
      "Grade F\n"
     ]
    }
   ],
   "source": [
    "marks = int(input(\"Enter your marks: \"))\n",
    "\n",
    "if marks<=100 and marks>=0:\n",
    "  if marks<50:\n",
    "    print(\"Grade F\")\n",
    "  elif marks<60:\n",
    "    print(\"Grade E\")\n",
    "  elif marks<70:\n",
    "    print(\"Grade D\")\n",
    "  elif marks<80:\n",
    "    print(\"Grade C\")\n",
    "  elif marks<90:\n",
    "    print(\"Grade B\")\n",
    "  else:\n",
    "    print(\"Grade A\")\n",
    "else:\n",
    "  print(\"Please enter marks between 0 and 100\")"
   ]
  },
  {
   "cell_type": "markdown",
   "metadata": {},
   "source": [
    "Question 6"
   ]
  },
  {
   "cell_type": "code",
   "execution_count": 4,
   "metadata": {},
   "outputs": [
    {
     "name": "stdout",
     "output_type": "stream",
     "text": [
      "First Number is greater\n",
      "Number is even\n"
     ]
    }
   ],
   "source": [
    "n1 = int(input(\"Enter first number: \"))\n",
    "n2 = int(input(\"Enter first number: \"))\n",
    "\n",
    "if n1>n2:\n",
    "  print(\"First Number is greater\")\n",
    "  if n1%2 == 0:\n",
    "    print(\"Number is even\")\n",
    "  else:\n",
    "    print(\"Number is odd\")\n",
    "else:\n",
    "  print(\"Second number is greater\")"
   ]
  }
 ],
 "metadata": {
  "interpreter": {
   "hash": "8f6fa6855b2e1bd9af1349c9a15994f4578396967442e586c3828f68b1dae0d5"
  },
  "kernelspec": {
   "display_name": "Python 3.8.5 ('base')",
   "language": "python",
   "name": "python3"
  },
  "language_info": {
   "codemirror_mode": {
    "name": "ipython",
    "version": 3
   },
   "file_extension": ".py",
   "mimetype": "text/x-python",
   "name": "python",
   "nbconvert_exporter": "python",
   "pygments_lexer": "ipython3",
   "version": "3.8.5"
  },
  "orig_nbformat": 4
 },
 "nbformat": 4,
 "nbformat_minor": 2
}
